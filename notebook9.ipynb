{
 "cells": [
  {
   "cell_type": "markdown",
   "id": "d8bba665",
   "metadata": {},
   "source": [
    "<img src=\"https://www.sturgischarterschool.com/wp-content/uploads/2019/06/sturgisheader_logo.png\" alt=\"sturgis\" width=\"250\" align=\"right\"/>\n",
    "\n",
    "## Computer Science 'Gooey Bugs' notebook 9\n",
    "### Sturgis Charter Public School \n",
    "\n"
   ]
  },
  {
   "cell_type": "markdown",
   "id": "681696fb",
   "metadata": {},
   "source": [
    "Student: [your name here]\n",
    "\n",
    "Collaborators: [N/A]\n",
    "\n",
    "Notes to the teacher: [N/A]"
   ]
  },
  {
   "cell_type": "markdown",
   "id": "16bf0839",
   "metadata": {},
   "source": [
    "### Learning Objectives for notebook \n",
    "* Database persistence & Volumes\n",
    "* Normalization of Data\n",
    "* SQL Queries"
   ]
  },
  {
   "cell_type": "markdown",
   "id": "da055ef7",
   "metadata": {},
   "source": [
    "#### Database Persistence & Volumes\n",
    "\n",
    "So now that we've got a database up and running, it would be great if that data actually persisted. The way we had it set up last week, that was not the case, and that was because it lived inside of the container--which is where we want it to live--but once we close the container--poof! Everything is gone! The solution? Volumes!\n",
    "\n",
    "There are two ways to get data to perist, one is with bind-mounts, and the other is with volumes. The difference is a bind mount connects a part of your computer to the container, and a volume is like a virtual hard drive that connects to the container. Considering that we're working with databases, I found the volumes to be the way to go. \n",
    "\n",
    "In order to accomplish this we need to level up! and use a docker-compose.yml file. These are unique files with always the SAME NAME. If you have docker, a docker-compose.yml file and are in the right directory (the one with the file) then you can do the following command `docker-compose up` to activate your docker-compose file. \n",
    "\n",
    "#### Data normalization\n",
    "\n",
    "So we're going to populate a database, and to do that we need to do the following. \n",
    "\n",
    "* Create a database\n",
    "* Create our tables & choose the values that our tables have\n",
    "* Choose how to put our data into those tables\n",
    "\n",
    "Much of this we've already done. But this time I'm going to give you some data and it's going to be your job to sort it and change your sql file so that it looks the way you want it to look (and what that means is the way that works best for the users). \n",
    "\n",
    "Here's a visual of how we might change our data to make it normalized. ![visual](dnex.jpg)\n",
    "\n",
    "One of my peers, JM, does an excellent job of demonstrating this. His html render of his code in R is in this repository, additionally we'll watch his discussion of normalization going from unnormalized to 4th normal form. What's helpful here is we can see that we need to be intentional about how we form our tables, and, of course, there's no reason that we can't change the way we look at the data (e.g. multiple tables vs a single table). \n",
    "\n",
    "#### SQL Queries \n",
    "\n",
    "Lastly we'll talk about the ways we can leverage our normalized data to make quick and efficient queries. I showed you this last week, but this time it seems like it would be better served inside of this repository. [SQL Cheat Sheet](SQL-cheat-sheet.pdf). You will need to use this in order to demonstrate your ability to make complex queries. \n"
   ]
  },
  {
   "cell_type": "code",
   "execution_count": null,
   "id": "fb3eb272",
   "metadata": {},
   "outputs": [],
   "source": [
    "import pandas as pd\n",
    "import pymysql\n",
    "import re\n",
    "import csv"
   ]
  },
  {
   "cell_type": "code",
   "execution_count": null,
   "id": "d1422f42",
   "metadata": {},
   "outputs": [],
   "source": [
    "conn=pymysql.connect(host='localhost',port=int(32000),user='root',passwd='root')"
   ]
  },
  {
   "cell_type": "code",
   "execution_count": null,
   "id": "11036eee",
   "metadata": {},
   "outputs": [],
   "source": [
    "cur = conn.cursor()"
   ]
  },
  {
   "cell_type": "code",
   "execution_count": null,
   "id": "b1024eee",
   "metadata": {},
   "outputs": [],
   "source": [
    "df=pd.read_sql_query('show databases',conn)\n",
    "df"
   ]
  },
  {
   "cell_type": "code",
   "execution_count": null,
   "id": "17a35ed4",
   "metadata": {},
   "outputs": [],
   "source": [
    "instructions = open(\"s_build_db.sql\", \"r\")\n",
    "instructions = instructions.read()\n",
    "print(repr(instructions))\n",
    "instructions = re.sub(\"\\n\", \"\", instructions)\n",
    "instructions = re.split(\";\", instructions)\n",
    "final = []\n",
    "for i in instructions:\n",
    "    if i: final.append(i)\n",
    "\n",
    "for instruction in final:\n",
    "    cur.execute(instruction)\n",
    "    conn.commit()"
   ]
  },
  {
   "cell_type": "code",
   "execution_count": null,
   "id": "678717fd",
   "metadata": {},
   "outputs": [],
   "source": [
    "cur.execute('USE s_practice')\n",
    "conn.commit()"
   ]
  },
  {
   "cell_type": "code",
   "execution_count": null,
   "id": "3bb5cc3b",
   "metadata": {},
   "outputs": [],
   "source": [
    "df=pd.read_sql_query('show tables',conn)\n",
    "df"
   ]
  },
  {
   "cell_type": "code",
   "execution_count": null,
   "id": "32fa2342",
   "metadata": {},
   "outputs": [],
   "source": [
    "cur.execute('INSERT INTO car (name, brand) VALUES (\"RAV4\", \"TOYOTA\")')\n",
    "conn.commit()"
   ]
  },
  {
   "cell_type": "code",
   "execution_count": null,
   "id": "6014a487",
   "metadata": {},
   "outputs": [],
   "source": [
    "df=pd.read_sql_query('SELECT * FROM car',conn)\n",
    "df"
   ]
  },
  {
   "cell_type": "markdown",
   "id": "25bebf66",
   "metadata": {},
   "source": [
    "### Question 1: Building a database\n",
    "\n",
    "Modify the `s_build_db.sql` file to build the database that you would like. Feel free to use the code above where it is helpful. Ultimately you're going to want to build your data so that it is normalized. That means you're going to need multiple tables. Use the `normalization.html` file to guide you on what your tables might ultimately look like. You do not have to have your tables exactly the same; however, you should have compelling logic for any differences that you choose to implement. \n",
    "\n",
    "You may want to reference notebook8 for the `execute many` command.\n",
    "\n",
    "Take some screenshots of your database in action, and add those images with clear labels into your repository. They should be in the folder labeled `answers`. You should have at least 3 screenshots, and the name of your screenshot should accurately reflect the image.\n",
    "\n",
    "*bonus points for embedding them here in your notebook* \n",
    "\n",
    "`![caption](imgname.png)` <-- Use this format if you want to embed images `.png` is an example, it may of course be different for different image formats. "
   ]
  },
  {
   "cell_type": "markdown",
   "id": "0db448b7",
   "metadata": {},
   "source": [
    "### Question 2: Explaining Data Normalization\n",
    "\n",
    "Consider reading [Hadley Whickam](tidy-data.pdf). Consider the video we watched in class, as well as `normalization.html`. Answer the following questions in short response format. \n",
    "\n",
    "* What are the advantages of normalizing data. \n",
    "* What do we need to do in order to achieve 3rd normal form. "
   ]
  },
  {
   "cell_type": "markdown",
   "id": "e1e48be2",
   "metadata": {},
   "source": [
    "### Question 3: SQL queries\n",
    "\n",
    "Write queries for the following things. Show the result of your query on your database. \n",
    "\n",
    "* The trackname of any songs that are the genre Electronica\n",
    "* The artist of any country songs\n",
    "* the artist of anyone who topped the charts in the 14th week\n",
    "* The week with the most chart toppers (i.e. which week has the most 1's as a column)\n",
    "* The genre of any songs that are less than 3 minutes"
   ]
  },
  {
   "cell_type": "code",
   "execution_count": null,
   "id": "79efbe8f",
   "metadata": {},
   "outputs": [],
   "source": []
  }
 ],
 "metadata": {
  "kernelspec": {
   "display_name": "Python 3 (ipykernel)",
   "language": "python",
   "name": "python3"
  },
  "language_info": {
   "codemirror_mode": {
    "name": "ipython",
    "version": 3
   },
   "file_extension": ".py",
   "mimetype": "text/x-python",
   "name": "python",
   "nbconvert_exporter": "python",
   "pygments_lexer": "ipython3",
   "version": "3.9.7"
  }
 },
 "nbformat": 4,
 "nbformat_minor": 5
}
